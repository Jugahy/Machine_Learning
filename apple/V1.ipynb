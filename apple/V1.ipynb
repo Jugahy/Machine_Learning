{
 "cells": [
  {
   "cell_type": "markdown",
   "id": "a528d009",
   "metadata": {},
   "source": [
    "# Version 1\n",
    "* 서버에 압축 파일 모두 업로드\n",
    "* 압축 파일 풀기\n",
    "* Training Data는 수가 많으니 Validation Data으로 먼저 이미지를 array 형태로 저장\n",
    "* 겉은 리스트로 감싸져 있음\n",
    "* Validation의 L, M, S 합쳐진 X_val을 만들었음\n",
    "* 현재 X_val 데이터는 L, M, S 순으로 340개씩 들어있으므로 y_val 데이터에 L 340개, M 340개, S 340개 넣어서 y_val 만들었음"
   ]
  },
  {
   "cell_type": "markdown",
   "id": "5adcfa05",
   "metadata": {},
   "source": [
    "# 압축 풀기\n",
    "* Training 폴더에 L,M,S 3개, Validation 폴더에 L,M,S 3개 폴더 압축 각각 풀어줌"
   ]
  },
  {
   "cell_type": "code",
   "execution_count": 14,
   "id": "1c69a4fa",
   "metadata": {},
   "outputs": [],
   "source": [
    "import shutil\n",
    "\n",
    "filename = \"Data/Training/apple_fuji_L.zip\"\n",
    "extract_dir = \"Data/Training/L\"\n",
    "archive_format = \"zip\"\n",
    "\n",
    "shutil.unpack_archive(filename, extract_dir, archive_format)"
   ]
  },
  {
   "cell_type": "markdown",
   "id": "ae6b2550",
   "metadata": {},
   "source": [
    "# 이미지 numpy형태로 변환\n",
    "* 압축 풀린 이미지를 각각 폴더에 numpy 형태로 변환\n",
    "* 사용할 라이브러리 호출\n",
    "* 사용할 이미지 목록 불러오기 내가 원하는 주소 안에 png로 끝나는 모든 파일들을 불러옴"
   ]
  },
  {
   "cell_type": "markdown",
   "id": "1be10870",
   "metadata": {},
   "source": [
    "# Validation_L\n",
    "* 이미지를 numpy 형태로 변환하여 저장할 빈 리스트를 하나 생성\n",
    "* 앞서 저장한 이미지들을 for문을 돌면서 하나씩 접근하여 image로 열고, np.array를 사용하여 numpy 형태로 변환합니다.\n",
    "* 그리고 앞에서 만든 리스트에 추가\n",
    "* 모든 이미지들을 추가했다면, 리스트 전체를 numpy 형태로 변환"
   ]
  },
  {
   "cell_type": "code",
   "execution_count": 87,
   "id": "a49ab8a0",
   "metadata": {},
   "outputs": [],
   "source": [
    "import os\n",
    "import numpy as np\n",
    "from PIL import Image"
   ]
  },
  {
   "cell_type": "code",
   "execution_count": 88,
   "id": "3d53d7bf",
   "metadata": {},
   "outputs": [],
   "source": [
    "image_path = \"Data/Validation/L/\"\n",
    "\n",
    "img_list = os.listdir(image_path)\n",
    "img_list_jpg = [img for img in img_list if img.endswith(\".png\")]\n",
    "\n",
    "Val_L = []\n",
    "\n",
    "for i in img_list_jpg:\n",
    "    img = Image.open(image_path + i)\n",
    "    img_array = np.array(img)\n",
    "    Val_L.append(img_array)"
   ]
  },
  {
   "cell_type": "markdown",
   "id": "30d85b3d",
   "metadata": {},
   "source": [
    "# Validation_M"
   ]
  },
  {
   "cell_type": "code",
   "execution_count": 89,
   "id": "dfda3ac5",
   "metadata": {},
   "outputs": [],
   "source": [
    "image_path = \"Data/Validation/M/\"\n",
    "\n",
    "img_list = os.listdir(image_path)\n",
    "img_list_jpg = [img for img in img_list if img.endswith(\".png\")]\n",
    "\n",
    "Val_M = []\n",
    "\n",
    "for i in img_list_jpg:\n",
    "    img = Image.open(image_path + i)\n",
    "    img_array = np.array(img)\n",
    "    Val_M.append(img_array)"
   ]
  },
  {
   "cell_type": "markdown",
   "id": "fa82d033",
   "metadata": {},
   "source": [
    "# Validation_S"
   ]
  },
  {
   "cell_type": "code",
   "execution_count": 90,
   "id": "114f5363",
   "metadata": {},
   "outputs": [],
   "source": [
    "image_path = \"Data/Validation/S/\"\n",
    "\n",
    "img_list = os.listdir(image_path)\n",
    "img_list_jpg = [img for img in img_list if img.endswith(\".png\")]\n",
    "\n",
    "Val_S = []\n",
    "\n",
    "for i in img_list_jpg:\n",
    "    img = Image.open(image_path + i)\n",
    "    img_array = np.array(img)\n",
    "    Val_S.append(img_array)"
   ]
  },
  {
   "cell_type": "markdown",
   "id": "216fa8bc",
   "metadata": {},
   "source": [
    "# Total Validation Data\n",
    "* X_val은 Validaiont_L, Validation_M, Validation_S를 순서대로 넣어놨으므로 y_val은 L 340개, M 340개, S 340개 넣음\n",
    "* 리스트 형태일 때 +를 통해 합치고 array로 변환"
   ]
  },
  {
   "cell_type": "code",
   "execution_count": 91,
   "id": "f4632f46",
   "metadata": {},
   "outputs": [],
   "source": [
    "X_val = Val_L + Val_M + Val_S"
   ]
  },
  {
   "cell_type": "code",
   "execution_count": 92,
   "id": "1460eae1",
   "metadata": {},
   "outputs": [],
   "source": [
    "X_val_np = np.array(X_val)"
   ]
  },
  {
   "cell_type": "code",
   "execution_count": 99,
   "id": "2ed7c358",
   "metadata": {},
   "outputs": [],
   "source": [
    "y_val = []\n",
    "\n",
    "for i in [\"L\", \"M\", \"S\"]:\n",
    "    for j in range(340):\n",
    "        y_val.append(i)\n",
    "        \n",
    "y_val_np = np.array(y_val)"
   ]
  }
 ],
 "metadata": {
  "kernelspec": {
   "display_name": "Python 3 (ipykernel)",
   "language": "python",
   "name": "python3"
  },
  "language_info": {
   "codemirror_mode": {
    "name": "ipython",
    "version": 3
   },
   "file_extension": ".py",
   "mimetype": "text/x-python",
   "name": "python",
   "nbconvert_exporter": "python",
   "pygments_lexer": "ipython3",
   "version": "3.8.10"
  }
 },
 "nbformat": 4,
 "nbformat_minor": 5
}
