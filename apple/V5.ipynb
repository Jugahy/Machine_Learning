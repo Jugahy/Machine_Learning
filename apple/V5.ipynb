{
 "cells": [
  {
   "cell_type": "markdown",
   "id": "271ed10f",
   "metadata": {},
   "source": [
    "# V5\n",
    "* Training Data의 모든 이미지를 (28,28)픽셀로 변환해서 저장\n",
    "* 학습 잘 되는지 확인"
   ]
  },
  {
   "cell_type": "markdown",
   "id": "98e1c82e",
   "metadata": {},
   "source": [
    "# GPU"
   ]
  },
  {
   "cell_type": "code",
   "execution_count": 1,
   "id": "3046c309",
   "metadata": {},
   "outputs": [
    {
     "name": "stderr",
     "output_type": "stream",
     "text": [
      "2022-11-05 15:30:07.556441: I tensorflow/core/platform/cpu_feature_guard.cc:151] This TensorFlow binary is optimized with oneAPI Deep Neural Network Library (oneDNN) to use the following CPU instructions in performance-critical operations:  AVX2 AVX512F FMA\n",
      "To enable them in other operations, rebuild TensorFlow with the appropriate compiler flags.\n",
      "2022-11-05 15:30:08.219192: I tensorflow/core/common_runtime/gpu/gpu_device.cc:1525] Created device /job:localhost/replica:0/task:0/device:GPU:0 with 4053 MB memory:  -> device: 0, name: NVIDIA A100 80GB PCIe, pci bus id: 0000:b3:00.0, compute capability: 8.0\n"
     ]
    }
   ],
   "source": [
    "import tensorflow.compat.v1 as tf1\n",
    "# import tensorflow as tf2\n",
    "import os\n",
    "\n",
    "os.environ[\"CUDA_VISIBLE_DEVICES\"] = \"1\"\n",
    "config = tf1.ConfigProto()\n",
    "config.gpu_options.per_process_gpu_memory_fraction = 0.05\n",
    "session = tf1.Session(config=config)"
   ]
  },
  {
   "cell_type": "markdown",
   "id": "5a31d04a",
   "metadata": {},
   "source": [
    "# Library"
   ]
  },
  {
   "cell_type": "code",
   "execution_count": 3,
   "id": "0185e155",
   "metadata": {},
   "outputs": [],
   "source": [
    "import os\n",
    "import numpy as np\n",
    "from PIL import Image\n",
    "import matplotlib.pyplot as plt"
   ]
  },
  {
   "cell_type": "markdown",
   "id": "4b5f1e2e",
   "metadata": {},
   "source": [
    "# Training 파일안의 모든 이미지 픽셀수 변경 코드"
   ]
  },
  {
   "cell_type": "code",
   "execution_count": 4,
   "id": "d7867164",
   "metadata": {},
   "outputs": [],
   "source": [
    "# 원하는 주소 안에있는 png로 끝나는 파일들 모두 (28,28)로 형태 변환\n",
    "def fixel(image_path):\n",
    "    img_list = os.listdir(image_path)\n",
    "    img_list_jpg = [img for img in img_list if img.endswith(\".png\")]\n",
    "\n",
    "    lst = []\n",
    "    for i in img_list_jpg:\n",
    "        img = Image.open(image_path + i)\n",
    "        img = img.resize((28,28))\n",
    "        img_array = np.array(img)\n",
    "        lst.append(img_array)\n",
    "        \n",
    "    return lst"
   ]
  },
  {
   "cell_type": "code",
   "execution_count": 6,
   "id": "b3750370",
   "metadata": {},
   "outputs": [],
   "source": [
    "Tra_L = fixel(\"Data/Training/L/\")\n",
    "Tra_M = fixel(\"Data/Training/M/\")\n",
    "Tra_S = fixel(\"Data/Training/S/\")"
   ]
  },
  {
   "cell_type": "code",
   "execution_count": 7,
   "id": "8792ff9a",
   "metadata": {},
   "outputs": [
    {
     "data": {
      "text/plain": [
       "(7140, 28, 28, 3)"
      ]
     },
     "execution_count": 7,
     "metadata": {},
     "output_type": "execute_result"
    }
   ],
   "source": [
    "X_train = Tra_L + Tra_M + Tra_S\n",
    "\n",
    "X_train = np.array(X_train)\n",
    "\n",
    "X_train.shape"
   ]
  },
  {
   "cell_type": "code",
   "execution_count": 9,
   "id": "3cd4cc3e",
   "metadata": {},
   "outputs": [
    {
     "data": {
      "text/plain": [
       "(7140,)"
      ]
     },
     "execution_count": 9,
     "metadata": {},
     "output_type": "execute_result"
    }
   ],
   "source": [
    "y_train = []\n",
    "\n",
    "for i in [\"L\", \"M\", \"S\"]:\n",
    "    for j in range(2380):\n",
    "        y_train.append(i)\n",
    "        \n",
    "y_train = np.array(y_train)\n",
    "y_train.shape"
   ]
  },
  {
   "cell_type": "markdown",
   "id": "1adbfc23",
   "metadata": {},
   "source": [
    "# y_val_np 문자열을 정수로 변환"
   ]
  },
  {
   "cell_type": "code",
   "execution_count": 11,
   "id": "47eb90ab",
   "metadata": {},
   "outputs": [],
   "source": [
    "y_train = np.where(y_train == \"L\", 0, y_train)\n",
    "y_train = np.where(y_train == \"M\", 1, y_train)\n",
    "y_train = np.where(y_train == \"S\", 2, y_train)\n",
    "\n",
    "y_train = y_train.astype(\"int\")"
   ]
  },
  {
   "cell_type": "markdown",
   "id": "3ae15441",
   "metadata": {},
   "source": [
    "# 데이터 나누기\n",
    "* 잘 학습되는구만 이제 Validation으로 정확도 높이고 Test Data로 마지막 정확도를 확인해보자"
   ]
  },
  {
   "cell_type": "code",
   "execution_count": 12,
   "id": "c562bdfe",
   "metadata": {},
   "outputs": [],
   "source": [
    "from sklearn.model_selection import train_test_split\n",
    "\n",
    "x_train, x_test, y_train, y_test = train_test_split(X_train, y_train,\n",
    "                                                    test_size=0.2, random_state=42)"
   ]
  },
  {
   "cell_type": "code",
   "execution_count": 16,
   "id": "3008e112",
   "metadata": {
    "scrolled": false
   },
   "outputs": [
    {
     "name": "stdout",
     "output_type": "stream",
     "text": [
      "Model: \"sequential_3\"\n",
      "_________________________________________________________________\n",
      " Layer (type)                Output Shape              Param #   \n",
      "=================================================================\n",
      " conv2d_12 (Conv2D)          (None, 26, 26, 16)        448       \n",
      "                                                                 \n",
      " max_pooling2d_12 (MaxPoolin  (None, 13, 13, 16)       0         \n",
      " g2D)                                                            \n",
      "                                                                 \n",
      " conv2d_13 (Conv2D)          (None, 11, 11, 16)        2320      \n",
      "                                                                 \n",
      " max_pooling2d_13 (MaxPoolin  (None, 5, 5, 16)         0         \n",
      " g2D)                                                            \n",
      "                                                                 \n",
      " conv2d_14 (Conv2D)          (None, 5, 5, 32)          4640      \n",
      "                                                                 \n",
      " max_pooling2d_14 (MaxPoolin  (None, 2, 2, 32)         0         \n",
      " g2D)                                                            \n",
      "                                                                 \n",
      " conv2d_15 (Conv2D)          (None, 2, 2, 32)          9248      \n",
      "                                                                 \n",
      " max_pooling2d_15 (MaxPoolin  (None, 1, 1, 32)         0         \n",
      " g2D)                                                            \n",
      "                                                                 \n",
      " flatten_3 (Flatten)         (None, 32)                0         \n",
      "                                                                 \n",
      " dense_9 (Dense)             (None, 32)                1056      \n",
      "                                                                 \n",
      " dense_10 (Dense)            (None, 32)                1056      \n",
      "                                                                 \n",
      " dense_11 (Dense)            (None, 10)                330       \n",
      "                                                                 \n",
      "=================================================================\n",
      "Total params: 19,098\n",
      "Trainable params: 19,098\n",
      "Non-trainable params: 0\n",
      "_________________________________________________________________\n",
      "Epoch 1/10\n",
      "179/179 [==============================] - 2s 9ms/step - loss: 0.7106 - accuracy: 0.7150\n",
      "Epoch 2/10\n",
      "179/179 [==============================] - 2s 9ms/step - loss: 0.3387 - accuracy: 0.8612\n",
      "Epoch 3/10\n",
      "179/179 [==============================] - 2s 9ms/step - loss: 0.2812 - accuracy: 0.8962\n",
      "Epoch 4/10\n",
      "179/179 [==============================] - 2s 9ms/step - loss: 0.2224 - accuracy: 0.9170\n",
      "Epoch 5/10\n",
      "179/179 [==============================] - 2s 9ms/step - loss: 0.1884 - accuracy: 0.9321\n",
      "Epoch 6/10\n",
      "179/179 [==============================] - 2s 10ms/step - loss: 0.1726 - accuracy: 0.9364\n",
      "Epoch 7/10\n",
      "179/179 [==============================] - 2s 9ms/step - loss: 0.1371 - accuracy: 0.9491\n",
      "Epoch 8/10\n",
      "179/179 [==============================] - 2s 9ms/step - loss: 0.1209 - accuracy: 0.9548\n",
      "Epoch 9/10\n",
      "179/179 [==============================] - 2s 9ms/step - loss: 0.1290 - accuracy: 0.9520\n",
      "Epoch 10/10\n",
      "179/179 [==============================] - 2s 9ms/step - loss: 0.1140 - accuracy: 0.9580\n",
      "45/45 - 0s - loss: 0.1999 - accuracy: 0.9293 - 313ms/epoch - 7ms/step\n",
      "오차 : 0.1998593658208847 정확도 : 0.9292716979980469\n"
     ]
    }
   ],
   "source": [
    "import tensorflow as tf\n",
    "from tensorflow.keras import datasets, layers, models\n",
    "\n",
    "model = tf.keras.models.Sequential([\n",
    "  tf.keras.layers.Conv2D(16, (3, 3), activation='relu', input_shape=(28, 28, 3)),\n",
    "  tf.keras.layers.MaxPooling2D(2, 2),\n",
    "  tf.keras.layers.Conv2D(16, (3, 3), activation='relu'),\n",
    "  tf.keras.layers.MaxPooling2D(2, 2),\n",
    "  tf.keras.layers.Conv2D(32, (3, 3), activation='relu', padding=\"same\"),\n",
    "  tf.keras.layers.MaxPooling2D(2, 2),\n",
    "  tf.keras.layers.Conv2D(32, (3, 3), activation='relu', padding=\"same\"),\n",
    "  tf.keras.layers.MaxPooling2D(2, 2),\n",
    "  tf.keras.layers.Flatten(),\n",
    "  tf.keras.layers.Dense(32, activation='relu'),\n",
    "  tf.keras.layers.Dense(32, activation='relu'),\n",
    "    \n",
    "    \n",
    "  tf.keras.layers.Dense(10, activation='softmax')\n",
    "])\n",
    "\n",
    "model.summary()\n",
    "\n",
    "\n",
    "model.compile(optimizer='adam',\n",
    "              loss='sparse_categorical_crossentropy',\n",
    "              metrics=['accuracy'])\n",
    "\n",
    "model.fit(x_train, y_train, epochs=10)\n",
    "\n",
    "loss, acc = model.evaluate(x_test, y_test, verbose=2)\n",
    "\n",
    "print(\"오차 :\",loss,\"정확도 :\", acc)"
   ]
  }
 ],
 "metadata": {
  "kernelspec": {
   "display_name": "Python 3 (ipykernel)",
   "language": "python",
   "name": "python3"
  },
  "language_info": {
   "codemirror_mode": {
    "name": "ipython",
    "version": 3
   },
   "file_extension": ".py",
   "mimetype": "text/x-python",
   "name": "python",
   "nbconvert_exporter": "python",
   "pygments_lexer": "ipython3",
   "version": "3.8.10"
  }
 },
 "nbformat": 4,
 "nbformat_minor": 5
}
