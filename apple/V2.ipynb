{
 "cells": [
  {
   "cell_type": "markdown",
   "id": "9a2dccc6",
   "metadata": {},
   "source": [
    "# Version 2\n",
    "* Training Data에 그대로 코드 적용해서 X_training Data SET 만듬"
   ]
  },
  {
   "cell_type": "markdown",
   "id": "703aa4f8",
   "metadata": {},
   "source": [
    "# Library"
   ]
  },
  {
   "cell_type": "code",
   "execution_count": 1,
   "id": "7f86d6bb",
   "metadata": {},
   "outputs": [],
   "source": [
    "import os\n",
    "import numpy as np\n",
    "from PIL import Image"
   ]
  },
  {
   "cell_type": "markdown",
   "id": "44ced0bc",
   "metadata": {},
   "source": [
    "# Training_L"
   ]
  },
  {
   "cell_type": "code",
   "execution_count": 2,
   "id": "f940f509",
   "metadata": {},
   "outputs": [],
   "source": [
    "image_path = \"Data/Training/L/\"\n",
    "\n",
    "img_list = os.listdir(image_path)\n",
    "img_list_jpg = [img for img in img_list if img.endswith(\".png\")]\n",
    "\n",
    "Tra_L = []\n",
    "\n",
    "for i in img_list_jpg:\n",
    "    img = Image.open(image_path + i)\n",
    "    img_array = np.array(img)\n",
    "    Tra_L.append(img_array)"
   ]
  },
  {
   "cell_type": "markdown",
   "id": "4425d7c1",
   "metadata": {},
   "source": [
    "# Training_M"
   ]
  },
  {
   "cell_type": "code",
   "execution_count": 3,
   "id": "79b6a8eb",
   "metadata": {},
   "outputs": [],
   "source": [
    "image_path = \"Data/Training/M/\"\n",
    "\n",
    "img_list = os.listdir(image_path)\n",
    "img_list_jpg = [img for img in img_list if img.endswith(\".png\")]\n",
    "\n",
    "Tra_M = []\n",
    "\n",
    "for i in img_list_jpg:\n",
    "    img = Image.open(image_path + i)\n",
    "    img_array = np.array(img)\n",
    "    Tra_M.append(img_array)"
   ]
  },
  {
   "cell_type": "markdown",
   "id": "d14317b6",
   "metadata": {},
   "source": [
    "# Training_S"
   ]
  },
  {
   "cell_type": "code",
   "execution_count": 4,
   "id": "ea98b249",
   "metadata": {},
   "outputs": [],
   "source": [
    "image_path = \"Data/Training/S/\"\n",
    "\n",
    "img_list = os.listdir(image_path)\n",
    "img_list_jpg = [img for img in img_list if img.endswith(\".png\")]\n",
    "\n",
    "Tra_S = []\n",
    "\n",
    "for i in img_list_jpg:\n",
    "    img = Image.open(image_path + i)\n",
    "    img_array = np.array(img)\n",
    "    Tra_S.append(img_array)"
   ]
  },
  {
   "cell_type": "markdown",
   "id": "044adcbe",
   "metadata": {},
   "source": [
    "# Total Training Data"
   ]
  },
  {
   "cell_type": "code",
   "execution_count": 5,
   "id": "4e7372de",
   "metadata": {},
   "outputs": [],
   "source": [
    "X_train = Tra_L + Tra_M + Tra_S"
   ]
  },
  {
   "cell_type": "code",
   "execution_count": null,
   "id": "c911b7d2",
   "metadata": {},
   "outputs": [],
   "source": [
    "X_train_np = np.array(X_train)"
   ]
  },
  {
   "cell_type": "code",
   "execution_count": 14,
   "id": "d222528c",
   "metadata": {},
   "outputs": [],
   "source": [
    "y_train = []\n",
    "\n",
    "for i in [\"L\", \"M\", \"S\"]:\n",
    "    for j in range(2380):\n",
    "        y_train.append(i)\n",
    "        \n",
    "y_train_np = np.array(y_train)"
   ]
  }
 ],
 "metadata": {
  "kernelspec": {
   "display_name": "Python 3 (ipykernel)",
   "language": "python",
   "name": "python3"
  },
  "language_info": {
   "codemirror_mode": {
    "name": "ipython",
    "version": 3
   },
   "file_extension": ".py",
   "mimetype": "text/x-python",
   "name": "python",
   "nbconvert_exporter": "python",
   "pygments_lexer": "ipython3",
   "version": "3.8.10"
  }
 },
 "nbformat": 4,
 "nbformat_minor": 5
}
