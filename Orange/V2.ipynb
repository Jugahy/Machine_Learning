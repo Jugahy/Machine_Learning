{
 "cells": [
  {
   "cell_type": "markdown",
   "id": "cda26b26",
   "metadata": {},
   "source": [
    "# GPU"
   ]
  },
  {
   "cell_type": "code",
   "execution_count": null,
   "id": "b07a8ff0",
   "metadata": {},
   "outputs": [],
   "source": [
    "import tensorflow.compat.v1 as tf1\n",
    "# import tensorflow as tf2\n",
    "import os\n",
    "\n",
    "os.environ[\"CUDA_VISIBLE_DEVICES\"] = \"1\"\n",
    "config = tf1.ConfigProto()\n",
    "config.gpu_options.per_process_gpu_memory_fraction = 0.05\n",
    "session = tf1.Session(config=config)"
   ]
  },
  {
   "cell_type": "code",
   "execution_count": 3,
   "id": "7aa93c59",
   "metadata": {},
   "outputs": [],
   "source": [
    "import tensorflow as tf\n",
    "import numpy as np\n",
    "import os\n",
    "import numpy as np\n",
    "from PIL import Image\n",
    "import matplotlib.pyplot as plt"
   ]
  },
  {
   "cell_type": "code",
   "execution_count": 4,
   "id": "10239a63",
   "metadata": {},
   "outputs": [],
   "source": [
    "# 원하는 주소 안에있는 png로 끝나는 파일들 모두 (28,28)로 형태 변환\n",
    "def fixel(image_path):\n",
    "    img_list = os.listdir(image_path)\n",
    "    img_list_jpg = [img for img in img_list if img.endswith(\".jpg\")]\n",
    "\n",
    "    lst = []\n",
    "    for i in img_list_jpg:\n",
    "        img = Image.open(image_path + i)\n",
    "        img = img.resize((28,28))\n",
    "        img_array = np.array(img)\n",
    "        lst.append(img_array)\n",
    "        \n",
    "    return lst"
   ]
  },
  {
   "cell_type": "code",
   "execution_count": 5,
   "id": "627261fd",
   "metadata": {},
   "outputs": [],
   "source": [
    "Tra_normal = fixel(\"Data/Training/normal/\")\n",
    "Tra_abnormal = fixel(\"Data/Training/abnormal/\")\n",
    "Val_normal = fixel(\"Data/Validation/normal/\")\n",
    "Val_abnormal = fixel(\"Data/Validation/abnormal/\")"
   ]
  },
  {
   "cell_type": "code",
   "execution_count": 75,
   "id": "b2ee5f90",
   "metadata": {},
   "outputs": [
    {
     "data": {
      "text/plain": [
       "((3407, 28, 28, 3), (427, 28, 28, 3))"
      ]
     },
     "execution_count": 75,
     "metadata": {},
     "output_type": "execute_result"
    }
   ],
   "source": [
    "X_val = Val_normal + Val_abnormal\n",
    "X_val_np = np.array(X_val)\n",
    "\n",
    "X_train = Tra_normal + Tra_abnormal\n",
    "X_train_np = np.array(X_train)\n",
    "\n",
    "X_train_np.shape, X_val_np.shape"
   ]
  },
  {
   "cell_type": "markdown",
   "id": "73e0a026",
   "metadata": {},
   "source": [
    "# label 만들기"
   ]
  },
  {
   "cell_type": "code",
   "execution_count": 76,
   "id": "6e5c568e",
   "metadata": {},
   "outputs": [
    {
     "data": {
      "text/plain": [
       "((3407,), (427,))"
      ]
     },
     "execution_count": 76,
     "metadata": {},
     "output_type": "execute_result"
    }
   ],
   "source": [
    "y_train = [0 for i in range(2035)] + [1 for i in range(1372)]\n",
    "y_val = [0 for i in range(255)] + [1 for i in range(172)]\n",
    "\n",
    "y_train_np = np.array(y_train)\n",
    "y_val_np = np.array(y_val)\n",
    "\n",
    "y_train_np.shape, y_val_np.shape"
   ]
  },
  {
   "cell_type": "markdown",
   "id": "265da91d",
   "metadata": {},
   "source": [
    "# 데이터 나누기"
   ]
  },
  {
   "cell_type": "code",
   "execution_count": 77,
   "id": "09ad6b00",
   "metadata": {},
   "outputs": [],
   "source": [
    "from sklearn.model_selection import train_test_split\n",
    "\n",
    "\n",
    "# Validation Data\n",
    "# X_val_np, y_val_np\n",
    "\n",
    "# Training Data\n",
    "x_train, x_test, y_train, y_test = train_test_split(X_train_np, y_train_np,\n",
    "                                                    test_size=0.2, random_state=42)"
   ]
  },
  {
   "cell_type": "code",
   "execution_count": 78,
   "id": "aa96b4cb",
   "metadata": {},
   "outputs": [
    {
     "data": {
      "text/plain": [
       "((2725,), (2725, 28, 28, 3))"
      ]
     },
     "execution_count": 78,
     "metadata": {},
     "output_type": "execute_result"
    }
   ],
   "source": [
    "y_train.shape, x_train.shape"
   ]
  },
  {
   "cell_type": "code",
   "execution_count": null,
   "id": "c53f52a4",
   "metadata": {},
   "outputs": [],
   "source": []
  },
  {
   "cell_type": "code",
   "execution_count": null,
   "id": "e0bc3796",
   "metadata": {},
   "outputs": [],
   "source": []
  },
  {
   "cell_type": "code",
   "execution_count": null,
   "id": "6fc3ebbc",
   "metadata": {},
   "outputs": [],
   "source": []
  },
  {
   "cell_type": "code",
   "execution_count": null,
   "id": "21da3694",
   "metadata": {},
   "outputs": [],
   "source": []
  },
  {
   "cell_type": "code",
   "execution_count": null,
   "id": "80c15c6e",
   "metadata": {},
   "outputs": [],
   "source": []
  },
  {
   "cell_type": "code",
   "execution_count": null,
   "id": "75aa382b",
   "metadata": {},
   "outputs": [],
   "source": []
  },
  {
   "cell_type": "code",
   "execution_count": null,
   "id": "6a42d07b",
   "metadata": {},
   "outputs": [],
   "source": []
  },
  {
   "cell_type": "code",
   "execution_count": null,
   "id": "09554c57",
   "metadata": {},
   "outputs": [],
   "source": []
  },
  {
   "cell_type": "code",
   "execution_count": null,
   "id": "b451b5c6",
   "metadata": {},
   "outputs": [],
   "source": []
  }
 ],
 "metadata": {
  "kernelspec": {
   "display_name": "Python 3 (ipykernel)",
   "language": "python",
   "name": "python3"
  },
  "language_info": {
   "codemirror_mode": {
    "name": "ipython",
    "version": 3
   },
   "file_extension": ".py",
   "mimetype": "text/x-python",
   "name": "python",
   "nbconvert_exporter": "python",
   "pygments_lexer": "ipython3",
   "version": "3.8.10"
  }
 },
 "nbformat": 4,
 "nbformat_minor": 5
}
